{
  "nbformat": 4,
  "nbformat_minor": 0,
  "metadata": {
    "colab": {
      "provenance": [],
      "gpuType": "T4"
    },
    "kernelspec": {
      "name": "python3",
      "display_name": "Python 3"
    },
    "language_info": {
      "name": "python"
    },
    "accelerator": "GPU"
  },
  "cells": [
    {
      "cell_type": "code",
      "source": [
        "# !pip install -r requirements.txt"
      ],
      "metadata": {
        "id": "ZLZIbin94IVA"
      },
      "execution_count": null,
      "outputs": []
    },
    {
      "cell_type": "code",
      "execution_count": null,
      "metadata": {
        "colab": {
          "base_uri": "https://localhost:8080/"
        },
        "id": "1A6Rv7hzon0w",
        "outputId": "e3cc203b-fac2-4a0c-893a-bb335fa2081d"
      },
      "outputs": [
        {
          "output_type": "stream",
          "name": "stdout",
          "text": [
            "Drive already mounted at /content/drive; to attempt to forcibly remount, call drive.mount(\"/content/drive\", force_remount=True).\n"
          ]
        }
      ],
      "source": [
        "from google.colab import drive\n",
        "drive.mount('/content/drive')"
      ]
    },
    {
      "cell_type": "code",
      "source": [
        "# !pip install transformers datasets torch tqdm pyyaml"
      ],
      "metadata": {
        "collapsed": true,
        "id": "WxkjpahsskUy"
      },
      "execution_count": null,
      "outputs": []
    },
    {
      "cell_type": "code",
      "source": [
        "import os\n",
        "os.chdir('/content/drive/MyDrive/prodigy_text-generation-with-gpt-2')"
      ],
      "metadata": {
        "id": "D1WDblqYti-H"
      },
      "execution_count": null,
      "outputs": []
    },
    {
      "cell_type": "code",
      "source": [
        "!python scripts/prepare_dataset.py"
      ],
      "metadata": {
        "colab": {
          "base_uri": "https://localhost:8080/"
        },
        "id": "wx_kAnR5swpE",
        "outputId": "13a6857c-9b91-44e7-c157-73ae9842babd"
      },
      "execution_count": null,
      "outputs": [
        {
          "output_type": "stream",
          "name": "stdout",
          "text": [
            "\rMap:   0% 0/8 [00:00<?, ? examples/s]\rMap: 100% 8/8 [00:00<00:00, 870.16 examples/s]\n",
            "\rMap:   0% 0/1 [00:00<?, ? examples/s]\rMap: 100% 1/1 [00:00<00:00, 188.29 examples/s]\n",
            "\rSaving the dataset (0/1 shards):   0% 0/8 [00:00<?, ? examples/s]\rSaving the dataset (1/1 shards): 100% 8/8 [00:00<00:00, 1030.98 examples/s]\rSaving the dataset (1/1 shards): 100% 8/8 [00:00<00:00, 1003.42 examples/s]\n",
            "\rSaving the dataset (0/1 shards):   0% 0/1 [00:00<?, ? examples/s]\rSaving the dataset (1/1 shards): 100% 1/1 [00:00<00:00, 106.79 examples/s]\rSaving the dataset (1/1 shards): 100% 1/1 [00:00<00:00, 104.48 examples/s]\n"
          ]
        }
      ]
    },
    {
      "cell_type": "code",
      "source": [
        "# !pip install --upgrade transformers"
      ],
      "metadata": {
        "collapsed": true,
        "id": "SzeeequcuZqB"
      },
      "execution_count": null,
      "outputs": []
    },
    {
      "cell_type": "code",
      "source": [
        "!python scripts/train.py"
      ],
      "metadata": {
        "colab": {
          "base_uri": "https://localhost:8080/"
        },
        "id": "UOUKMwc0tI6f",
        "outputId": "c34a88c5-991f-44be-96ae-21e42ba14306"
      },
      "execution_count": null,
      "outputs": [
        {
          "output_type": "stream",
          "name": "stdout",
          "text": [
            "2025-05-06 14:56:14.742968: E external/local_xla/xla/stream_executor/cuda/cuda_fft.cc:477] Unable to register cuFFT factory: Attempting to register factory for plugin cuFFT when one has already been registered\n",
            "WARNING: All log messages before absl::InitializeLog() is called are written to STDERR\n",
            "E0000 00:00:1746543374.763536   20176 cuda_dnn.cc:8310] Unable to register cuDNN factory: Attempting to register factory for plugin cuDNN when one has already been registered\n",
            "E0000 00:00:1746543374.770277   20176 cuda_blas.cc:1418] Unable to register cuBLAS factory: Attempting to register factory for plugin cuBLAS when one has already been registered\n",
            "2025-05-06 14:56:14.790442: I tensorflow/core/platform/cpu_feature_guard.cc:210] This TensorFlow binary is optimized to use available CPU instructions in performance-critical operations.\n",
            "To enable the following instructions: AVX2 AVX512F FMA, in other operations, rebuild TensorFlow with the appropriate compiler flags.\n",
            "/content/drive/MyDrive/prodigy_text-generation-with-gpt-2/scripts/train.py:40: FutureWarning: `tokenizer` is deprecated and will be removed in version 5.0.0 for `Trainer.__init__`. Use `processing_class` instead.\n",
            "  trainer = Trainer(\n",
            "\u001b[34m\u001b[1mwandb\u001b[0m: \u001b[33mWARNING\u001b[0m The `run_name` is currently set to the same value as `TrainingArguments.output_dir`. If this was not intended, please specify a different run name by setting the `TrainingArguments.run_name` parameter.\n",
            "\u001b[34m\u001b[1mwandb\u001b[0m: Currently logged in as: \u001b[33maimldlllm\u001b[0m (\u001b[33maimldlnlp\u001b[0m) to \u001b[32mhttps://api.wandb.ai\u001b[0m. Use \u001b[1m`wandb login --relogin`\u001b[0m to force relogin\n",
            "\u001b[34m\u001b[1mwandb\u001b[0m: Tracking run with wandb version 0.19.10\n",
            "\u001b[34m\u001b[1mwandb\u001b[0m: Run data is saved locally in \u001b[35m\u001b[1m/content/drive/MyDrive/prodigy_text-generation-with-gpt-2/wandb/run-20250506_145621-wdcohz1o\u001b[0m\n",
            "\u001b[34m\u001b[1mwandb\u001b[0m: Run \u001b[1m`wandb offline`\u001b[0m to turn off syncing.\n",
            "\u001b[34m\u001b[1mwandb\u001b[0m: Syncing run \u001b[33mmodels/gpt2-finetuned\u001b[0m\n",
            "\u001b[34m\u001b[1mwandb\u001b[0m: ⭐️ View project at \u001b[34m\u001b[4mhttps://wandb.ai/aimldlnlp/huggingface\u001b[0m\n",
            "\u001b[34m\u001b[1mwandb\u001b[0m: 🚀 View run at \u001b[34m\u001b[4mhttps://wandb.ai/aimldlnlp/huggingface/runs/wdcohz1o\u001b[0m\n",
            "  0% 0/6 [00:00<?, ?it/s]`loss_type=None` was set in the config but it is unrecognised.Using the default loss: `ForCausalLMLoss`.\n",
            "{'train_runtime': 7.9673, 'train_samples_per_second': 3.012, 'train_steps_per_second': 0.753, 'train_loss': 8.981427510579428, 'epoch': 3.0}\n",
            "100% 6/6 [00:06<00:00,  1.04s/it]\n",
            "\u001b[1;34mwandb\u001b[0m: \n",
            "\u001b[1;34mwandb\u001b[0m: 🚀 View run \u001b[33mmodels/gpt2-finetuned\u001b[0m at: \u001b[34mhttps://wandb.ai/aimldlnlp/huggingface/runs/wdcohz1o\u001b[0m\n",
            "\u001b[1;34mwandb\u001b[0m: Find logs at: \u001b[1;35mwandb/run-20250506_145621-wdcohz1o/logs\u001b[0m\n"
          ]
        }
      ]
    },
    {
      "cell_type": "code",
      "source": [
        "!python scripts/generate.py"
      ],
      "metadata": {
        "colab": {
          "base_uri": "https://localhost:8080/"
        },
        "id": "EmnAvQKitwt4",
        "outputId": "9bd00ec6-5800-471d-e23c-36327897794a"
      },
      "execution_count": null,
      "outputs": [
        {
          "output_type": "stream",
          "name": "stdout",
          "text": [
            "2025-05-06 14:59:26.303610: E external/local_xla/xla/stream_executor/cuda/cuda_fft.cc:477] Unable to register cuFFT factory: Attempting to register factory for plugin cuFFT when one has already been registered\n",
            "WARNING: All log messages before absl::InitializeLog() is called are written to STDERR\n",
            "E0000 00:00:1746543566.339749   21074 cuda_dnn.cc:8310] Unable to register cuDNN factory: Attempting to register factory for plugin cuDNN when one has already been registered\n",
            "E0000 00:00:1746543566.349574   21074 cuda_blas.cc:1418] Unable to register cuBLAS factory: Attempting to register factory for plugin cuBLAS when one has already been registered\n",
            "2025-05-06 14:59:26.379544: I tensorflow/core/platform/cpu_feature_guard.cc:210] This TensorFlow binary is optimized to use available CPU instructions in performance-critical operations.\n",
            "To enable the following instructions: AVX2 AVX512F FMA, in other operations, rebuild TensorFlow with the appropriate compiler flags.\n",
            "Enter your prompt: what is artificial intelligence?\n",
            "Setting `pad_token_id` to `eos_token_id`:50256 for open-end generation.\n",
            "\n",
            "Generated Text:\n",
            " what is artificial intelligence? This is why we shouldn't just have the same \"technology\" that we use to make money. In this article, we will talk about how the best practices in AI can be distilled down to four core concepts: AI, Machine Learning, Machine Learning, Machine Learning and Machine Learning and Machine Learning is the key to AI being the most powerful form of machine learning in the world and the key to machine learning is self-driving cars. If you are interested in the technical details of self-driving cars\n"
          ]
        }
      ]
    }
  ]
}